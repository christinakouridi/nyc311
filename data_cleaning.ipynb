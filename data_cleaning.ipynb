{
 "cells": [
  {
   "cell_type": "markdown",
   "metadata": {},
   "source": [
    "<b> Author: </b> Christina Kouridi  \n",
    "<b> Date: </b>  17/3/2021\n",
    "\n",
    "# Data cleaning\n",
    "\n",
    "<b> Objective </b>: This notebook goes through the data cleaning process for [NYC 311 dataset](https://data.cityofnewyork.us/Social-Services/311-Service-Requests-from-2010-to-Present/erm2-nwe9), and explains key decisions"
   ]
  },
  {
   "cell_type": "code",
   "execution_count": 1,
   "metadata": {
    "pycharm": {
     "name": "#%%\n"
    }
   },
   "outputs": [],
   "source": [
    "import matplotlib.pyplot as plt\n",
    "import numpy as np\n",
    "import pandas as pd\n",
    "\n",
    "\n",
    "from uszipcode import SearchEngine\n",
    "\n",
    "# dataframe display settings\n",
    "pd.set_option('display.max_rows', 1000) \n",
    "pd.set_option('display.max_columns', 50)\n",
    "pd.set_option('display.max_colwidth', None)\n",
    "\n",
    "# seed for PRNGs\n",
    "np.random.seed(0)"
   ]
  },
  {
   "cell_type": "markdown",
   "metadata": {},
   "source": [
    "### Load data\n",
    "\n",
    "- To work efficiently, we will only load columns that will be utilised in subsequent analysis\n",
    "- The number of rows `nrows` should be limited such that the dataset fits in memory. The total number of rows (~25M) roughly occupy ~15GB of memory\n",
    "- We indicate data types upon loading, especially `string`, as columns with mixed data types are stored as objects which are very memory intensive"
   ]
  },
  {
   "cell_type": "code",
   "execution_count": 2,
   "metadata": {
    "pycharm": {
     "name": "#%%\n"
    }
   },
   "outputs": [
    {
     "name": "stdout",
     "output_type": "stream",
     "text": [
      "<class 'pandas.core.frame.DataFrame'>\n",
      "RangeIndex: 25115321 entries, 0 to 25115320\n",
      "Data columns (total 10 columns):\n",
      " #   Column                  Dtype  \n",
      "---  ------                  -----  \n",
      " 0   Unique Key              int64  \n",
      " 1   Created Date            string \n",
      " 2   Closed Date             string \n",
      " 3   Agency                  string \n",
      " 4   Complaint Type          string \n",
      " 5   Incident Zip            string \n",
      " 6   Status                  string \n",
      " 7   Resolution Description  string \n",
      " 8   Latitude                float64\n",
      " 9   Longitude               float64\n",
      "dtypes: float64(2), int64(1), string(7)\n",
      "memory usage: 15.2 GB\n"
     ]
    }
   ],
   "source": [
    "column_to_dtype = {'Unique Key': 'int', \n",
    "                   'Created Date': 'string',\n",
    "                   'Closed Date': 'string', \n",
    "                   'Agency': 'string',\n",
    "                   'Complaint Type': 'string',\n",
    "                   'Incident Zip': 'string',\n",
    "                   'Status': 'string',\n",
    "                   'Resolution Description': 'string',\n",
    "                   'Latitude': 'float',\n",
    "                   'Longitude': 'float'\n",
    "                   }\n",
    "\n",
    "df = pd.read_csv('data/311_Service_Requests_from_2010_to_Present.csv', \n",
    "                 usecols=column_to_dtype.keys(), \n",
    "                 dtype=column_to_dtype)\n",
    "\n",
    "len_df_raw = len(df)  # store for reference\n",
    "\n",
    "df.info(memory_usage='deep')"
   ]
  },
  {
   "cell_type": "markdown",
   "metadata": {},
   "source": [
    "As expected, long strings occupy the most memory"
   ]
  },
  {
   "cell_type": "code",
   "execution_count": 3,
   "metadata": {},
   "outputs": [
    {
     "data": {
      "text/plain": [
       "Index                        0.000122\n",
       "Unique Key                 191.614693\n",
       "Created Date              1892.195090\n",
       "Closed Date               1866.664941\n",
       "Agency                    1450.472558\n",
       "Complaint Type            1759.805104\n",
       "Incident Zip              1456.153008\n",
       "Status                    1509.995279\n",
       "Resolution Description    5079.912370\n",
       "Latitude                   191.614693\n",
       "Longitude                  191.614693\n",
       "dtype: float64"
      ]
     },
     "execution_count": 3,
     "metadata": {},
     "output_type": "execute_result"
    }
   ],
   "source": [
    "df.memory_usage(deep=True) / 1024**2"
   ]
  },
  {
   "cell_type": "markdown",
   "metadata": {},
   "source": [
    "We change column names to a more convenient format for quick indexing"
   ]
  },
  {
   "cell_type": "code",
   "execution_count": 4,
   "metadata": {
    "pycharm": {
     "name": "#%%\n"
    }
   },
   "outputs": [
    {
     "data": {
      "text/html": [
       "<div>\n",
       "<style scoped>\n",
       "    .dataframe tbody tr th:only-of-type {\n",
       "        vertical-align: middle;\n",
       "    }\n",
       "\n",
       "    .dataframe tbody tr th {\n",
       "        vertical-align: top;\n",
       "    }\n",
       "\n",
       "    .dataframe thead th {\n",
       "        text-align: right;\n",
       "    }\n",
       "</style>\n",
       "<table border=\"1\" class=\"dataframe\">\n",
       "  <thead>\n",
       "    <tr style=\"text-align: right;\">\n",
       "      <th></th>\n",
       "      <th>unique_key</th>\n",
       "      <th>created_date</th>\n",
       "      <th>closed_date</th>\n",
       "      <th>agency</th>\n",
       "      <th>complaint_type</th>\n",
       "      <th>incident_zip</th>\n",
       "      <th>status</th>\n",
       "      <th>resolution_description</th>\n",
       "      <th>latitude</th>\n",
       "      <th>longitude</th>\n",
       "    </tr>\n",
       "  </thead>\n",
       "  <tbody>\n",
       "    <tr>\n",
       "      <th>0</th>\n",
       "      <td>16181298</td>\n",
       "      <td>03/10/2010 12:00:00 AM</td>\n",
       "      <td>03/11/2010 12:00:00 AM</td>\n",
       "      <td>HPD</td>\n",
       "      <td>HEATING</td>\n",
       "      <td>11226</td>\n",
       "      <td>Closed</td>\n",
       "      <td>More than one complaint was received for this building-wide condition.This complaint status is for the initial complaint.The Department of Housing Preservation and Development contacted a tenant in the building and verified that the following conditions were corrected. The complaint has been closed. If the condition still exists, please</td>\n",
       "      <td>40.654276</td>\n",
       "      <td>-73.961805</td>\n",
       "    </tr>\n",
       "    <tr>\n",
       "      <th>1</th>\n",
       "      <td>16180916</td>\n",
       "      <td>03/10/2010 12:00:00 AM</td>\n",
       "      <td>03/18/2010 12:00:00 AM</td>\n",
       "      <td>HPD</td>\n",
       "      <td>NONCONST</td>\n",
       "      <td>11218</td>\n",
       "      <td>Closed</td>\n",
       "      <td>The Department of Housing Preservation and Development inspected the following conditions. No violations were issued. The complaint has been closed.</td>\n",
       "      <td>40.643209</td>\n",
       "      <td>-73.989035</td>\n",
       "    </tr>\n",
       "    <tr>\n",
       "      <th>2</th>\n",
       "      <td>16181945</td>\n",
       "      <td>03/10/2010 12:00:00 AM</td>\n",
       "      <td>03/15/2010 12:00:00 AM</td>\n",
       "      <td>HPD</td>\n",
       "      <td>GENERAL CONSTRUCTION</td>\n",
       "      <td>11225</td>\n",
       "      <td>Closed</td>\n",
       "      <td>The Department of Housing Preservation and Development inspected the following conditions. Violations were issued. Information about specific violations is available at www.nyc.gov/hpd.</td>\n",
       "      <td>40.663802</td>\n",
       "      <td>-73.952529</td>\n",
       "    </tr>\n",
       "    <tr>\n",
       "      <th>3</th>\n",
       "      <td>16181032</td>\n",
       "      <td>03/10/2010 06:24:22 PM</td>\n",
       "      <td>03/15/2010 12:00:00 AM</td>\n",
       "      <td>DOT</td>\n",
       "      <td>Street Condition</td>\n",
       "      <td>10305</td>\n",
       "      <td>Closed</td>\n",
       "      <td>The Department of Transportation inspected this complaint and repaired the problem.</td>\n",
       "      <td>40.600617</td>\n",
       "      <td>-74.064888</td>\n",
       "    </tr>\n",
       "    <tr>\n",
       "      <th>4</th>\n",
       "      <td>16182497</td>\n",
       "      <td>03/10/2010 12:00:00 AM</td>\n",
       "      <td>03/18/2010 12:00:00 AM</td>\n",
       "      <td>HPD</td>\n",
       "      <td>PLUMBING</td>\n",
       "      <td>11219</td>\n",
       "      <td>Closed</td>\n",
       "      <td>The Department of Housing Preservation and Development inspected the following conditions. Violations were issued. Information about specific violations is available at www.nyc.gov/hpd.</td>\n",
       "      <td>40.634132</td>\n",
       "      <td>-73.989476</td>\n",
       "    </tr>\n",
       "  </tbody>\n",
       "</table>\n",
       "</div>"
      ],
      "text/plain": [
       "   unique_key            created_date             closed_date agency  \\\n",
       "0    16181298  03/10/2010 12:00:00 AM  03/11/2010 12:00:00 AM    HPD   \n",
       "1    16180916  03/10/2010 12:00:00 AM  03/18/2010 12:00:00 AM    HPD   \n",
       "2    16181945  03/10/2010 12:00:00 AM  03/15/2010 12:00:00 AM    HPD   \n",
       "3    16181032  03/10/2010 06:24:22 PM  03/15/2010 12:00:00 AM    DOT   \n",
       "4    16182497  03/10/2010 12:00:00 AM  03/18/2010 12:00:00 AM    HPD   \n",
       "\n",
       "         complaint_type incident_zip  status  \\\n",
       "0               HEATING        11226  Closed   \n",
       "1              NONCONST        11218  Closed   \n",
       "2  GENERAL CONSTRUCTION        11225  Closed   \n",
       "3      Street Condition        10305  Closed   \n",
       "4              PLUMBING        11219  Closed   \n",
       "\n",
       "                                                                                                                                                                                                                                                                                                                               resolution_description  \\\n",
       "0  More than one complaint was received for this building-wide condition.This complaint status is for the initial complaint.The Department of Housing Preservation and Development contacted a tenant in the building and verified that the following conditions were corrected. The complaint has been closed. If the condition still exists, please   \n",
       "1                                                                                                                                                                                                The Department of Housing Preservation and Development inspected the following conditions. No violations were issued. The complaint has been closed.   \n",
       "2                                                                                                                                                           The Department of Housing Preservation and Development inspected the following conditions. Violations were issued. Information about specific violations is available at www.nyc.gov/hpd.   \n",
       "3                                                                                                                                                                                                                                                                 The Department of Transportation inspected this complaint and repaired the problem.   \n",
       "4                                                                                                                                                           The Department of Housing Preservation and Development inspected the following conditions. Violations were issued. Information about specific violations is available at www.nyc.gov/hpd.   \n",
       "\n",
       "    latitude  longitude  \n",
       "0  40.654276 -73.961805  \n",
       "1  40.643209 -73.989035  \n",
       "2  40.663802 -73.952529  \n",
       "3  40.600617 -74.064888  \n",
       "4  40.634132 -73.989476  "
      ]
     },
     "execution_count": 4,
     "metadata": {},
     "output_type": "execute_result"
    }
   ],
   "source": [
    "df.columns = ['unique_key', \n",
    "              'created_date', \n",
    "              'closed_date',\n",
    "              'agency', \n",
    "              'complaint_type', \n",
    "              'incident_zip', \n",
    "              'status',\n",
    "              'resolution_description',\n",
    "              'latitude', \n",
    "              'longitude']\n",
    "\n",
    "df.head()"
   ]
  },
  {
   "cell_type": "markdown",
   "metadata": {},
   "source": [
    "We'll pay particular attention to nulls in `closed_date` and `incident_zip`; `latitude`, `longitude` and `resolution_description` are only used for demonstration"
   ]
  },
  {
   "cell_type": "code",
   "execution_count": 5,
   "metadata": {},
   "outputs": [
    {
     "data": {
      "text/plain": [
       "unique_key                0.00\n",
       "created_date              0.00\n",
       "closed_date               2.73\n",
       "agency                    0.00\n",
       "complaint_type            0.00\n",
       "incident_zip              5.48\n",
       "status                    0.00\n",
       "resolution_description    2.00\n",
       "latitude                  8.43\n",
       "longitude                 8.43\n",
       "dtype: float64"
      ]
     },
     "execution_count": 5,
     "metadata": {},
     "output_type": "execute_result"
    }
   ],
   "source": [
    "round(df.isnull().sum(axis=0) * 100 / len(df), 2)"
   ]
  },
  {
   "cell_type": "markdown",
   "metadata": {},
   "source": [
    "#### Check that the unique key is indeed unique"
   ]
  },
  {
   "cell_type": "code",
   "execution_count": 6,
   "metadata": {},
   "outputs": [],
   "source": [
    "assert df.unique_key.nunique() == len(df)"
   ]
  },
  {
   "cell_type": "markdown",
   "metadata": {},
   "source": [
    "### 1.1 Data cleaning: request status (`status`)\n",
    "\n",
    "This analysis only considers closed requests, thus entries with an open status are dropped. Such requests are more likely to be currently invalid or incomplete, as they may be updated before being closed"
   ]
  },
  {
   "cell_type": "code",
   "execution_count": 7,
   "metadata": {
    "pycharm": {
     "name": "#%%\n"
    }
   },
   "outputs": [
    {
     "data": {
      "image/png": "[encoded data removed]",
      "text/plain": [
       "<Figure size 432x288 with 1 Axes>"
      ]
     },
     "metadata": {
      "needs_background": "light"
     },
     "output_type": "display_data"
    }
   ],
   "source": [
    "df.status.value_counts().plot(kind='bar')\n",
    "\n",
    "plt.ylabel('count of requests')\n",
    "plt.xlabel('status of request')\n",
    "\n",
    "plt.show()"
   ]
  },
  {
   "cell_type": "code",
   "execution_count": 8,
   "metadata": {},
   "outputs": [],
   "source": [
    "df = df[df.status == 'Closed'].copy()"
   ]
  },
  {
   "cell_type": "markdown",
   "metadata": {},
   "source": [
    "### 1.2 Data cleaning: Zip Codes (`incident_zip`)\n",
    "\n",
    "Steps: \n",
    "- strip the first 5 digits in`incident_zip` (assuming that valid ZIP codes in NY state consist of 5 digits [[1](https://www.zip-codes.com/state/ny.asp)])\n",
    "- drop the null values (already 5.5% of entries according to cell 5)\n",
    "- drop ZIP codes that do not represent actual areas within NY state. We use the [`uszipcode`](https://pypi.org/project/uszipcode/) USA ZIP code programmable database, which includes up-to-date ZIP code information"
   ]
  },
  {
   "cell_type": "markdown",
   "metadata": {},
   "source": [
    "Extracting a random set of entries, demonstrates a range of problematic entries, for example:\n",
    "\n",
    "- 'ANONYMOUS'\n",
    "- '1735-9100'\n",
    "- '117'\n",
    "- '972286995'\n",
    "- '000000'"
   ]
  },
  {
   "cell_type": "code",
   "execution_count": 9,
   "metadata": {},
   "outputs": [
    {
     "data": {
      "text/plain": [
       "array(['13039', '55343', '08360-4213', 'ANONYMOUS', '10533', '98130',\n",
       "       '11560', '11757', '75035', '70002', '10401', '85201', '03110',\n",
       "       '07733', '42301', '12865', '1735-9100', '60678', '06831',\n",
       "       '55439-0846', '85053', '133221', '31093', '48195-0954', '77057',\n",
       "       '63146', '55164-4043', '10475', '37043', '48195-0954', '07608',\n",
       "       '98036', '11735', '27414', '11020', '18104', '30006', '07112',\n",
       "       '18966', '11423', '01845', '32119', '117', '23060', '11542',\n",
       "       '03104', '03104', '35209', 'MN55439', '48090', '06870', '61602',\n",
       "       '07632', '14203', '60630', '30006', '60649', '32896-5053', '11774',\n",
       "       '10104', '61702-3068', '10120', '11692', '11690', '78265-9705',\n",
       "       '31600', '33063', '08690-1717', '10301', '33027', '07081', '14225',\n",
       "       '11709', '11020', '12508', '07807', '07481', '85251-6547',\n",
       "       '972286995', '63701', '30348', '11946', '11510', '07653', '10008',\n",
       "       '11352', '17109-0988', '7117-7032', '32401', '60159-0838',\n",
       "       '000000', '08060', '63092', '43235', '11137', '20791', '66213',\n",
       "       '92008', '07032', '66211', '92123', '29406', '6172', '012345',\n",
       "       '12917', '10179', '11713', '33634', '60068', '11369', '48195-0969',\n",
       "       '19090', '55102-1211', '11110', '11548', '06890-2101', '28306',\n",
       "       '29616-0759', '11565', '32780', '11096-0612', '46216', '10466',\n",
       "       '32501', '34652', '10704', '07110', '12515', '11341', 'NTY',\n",
       "       '31405-1441', '12255', '07647-2311', '78749', '08827-4010',\n",
       "       '77403', '61826', '55125', '08906', '01010', '10980', '11368',\n",
       "       '44720', '01842', '01850', '75243', '11509', '945517661', '32859',\n",
       "       '78704'], dtype=object)"
      ]
     },
     "execution_count": 9,
     "metadata": {},
     "output_type": "execute_result"
    }
   ],
   "source": [
    "np.random.choice(df.incident_zip.unique(), 150)"
   ]
  },
  {
   "cell_type": "code",
   "execution_count": 10,
   "metadata": {
    "pycharm": {
     "name": "#%%\n"
    }
   },
   "outputs": [
    {
     "name": "stdout",
     "output_type": "stream",
     "text": [
      "additional # of null values: 409\n"
     ]
    }
   ],
   "source": [
    "df['clean_zip'] = df.incident_zip.str.extract(r'([0-9]{5})')\n",
    "\n",
    "print(f'additional # of null values: {int(df.clean_zip.isna().sum() - df.incident_zip.isna().sum())}')"
   ]
  },
  {
   "cell_type": "code",
   "execution_count": 11,
   "metadata": {},
   "outputs": [
    {
     "name": "stdout",
     "output_type": "stream",
     "text": [
      "<class 'pandas.core.frame.DataFrame'>\n",
      "Int64Index: 23961199 entries, 0 to 25115320\n",
      "Data columns (total 11 columns):\n",
      " #   Column                  Dtype  \n",
      "---  ------                  -----  \n",
      " 0   unique_key              int64  \n",
      " 1   created_date            string \n",
      " 2   closed_date             string \n",
      " 3   agency                  string \n",
      " 4   complaint_type          string \n",
      " 5   incident_zip            string \n",
      " 6   status                  string \n",
      " 7   resolution_description  string \n",
      " 8   latitude                float64\n",
      " 9   longitude               float64\n",
      " 10  clean_zip               object \n",
      "dtypes: float64(2), int64(1), object(1), string(7)\n",
      "memory usage: 2.1+ GB\n"
     ]
    }
   ],
   "source": [
    "df.info()"
   ]
  },
  {
   "cell_type": "code",
   "execution_count": 12,
   "metadata": {},
   "outputs": [],
   "source": [
    "# ensure it remains a string for memory efficiency\n",
    "df['clean_zip'] = df['clean_zip'].astype('string')"
   ]
  },
  {
   "cell_type": "code",
   "execution_count": 13,
   "metadata": {
    "pycharm": {
     "name": "#%%\n"
    }
   },
   "outputs": [],
   "source": [
    "# drop rows with null clean_zip\n",
    "df.dropna(subset=['clean_zip'], inplace=True)\n",
    "\n",
    "#  test whether all zips have the right length\n",
    "assert sum(df['clean_zip'].str.len() == 5) == len(df['clean_zip'])"
   ]
  },
  {
   "cell_type": "markdown",
   "metadata": {},
   "source": [
    "Now that we have ZIP codes of valid length and type, let's do a quick check on whether the ZIP codes represent actual areas within NY"
   ]
  },
  {
   "cell_type": "code",
   "execution_count": 14,
   "metadata": {
    "pycharm": {
     "name": "#%%\n"
    }
   },
   "outputs": [
    {
     "name": "stdout",
     "output_type": "stream",
     "text": [
      "range of zip-codes: 10001-14925\n"
     ]
    }
   ],
   "source": [
    "search = SearchEngine()\n",
    "res = search.by_state(state=\"New York\", returns=0)\n",
    "\n",
    "valid_zipcodes = [z.zipcode for z in res]\n",
    "print(f'range of zip-codes: {valid_zipcodes[0]}-{valid_zipcodes[-1]}') "
   ]
  },
  {
   "cell_type": "code",
   "execution_count": 15,
   "metadata": {
    "pycharm": {
     "name": "#%%\n"
    }
   },
   "outputs": [
    {
     "data": {
      "text/plain": [
       "True     22745234\n",
       "False        9661\n",
       "Name: clean_zip, dtype: int64"
      ]
     },
     "execution_count": 15,
     "metadata": {},
     "output_type": "execute_result"
    }
   ],
   "source": [
    "df.clean_zip.isin(valid_zipcodes).value_counts()"
   ]
  },
  {
   "cell_type": "code",
   "execution_count": 16,
   "metadata": {
    "pycharm": {
     "name": "#%%\n"
    }
   },
   "outputs": [],
   "source": [
    "#  this drops zip codes such as 00000\n",
    "df = df[df.clean_zip.isin(valid_zipcodes)]"
   ]
  },
  {
   "cell_type": "markdown",
   "metadata": {},
   "source": [
    "`clean_zip` now looks reasonable!"
   ]
  },
  {
   "cell_type": "code",
   "execution_count": 17,
   "metadata": {},
   "outputs": [
    {
     "data": {
      "text/plain": [
       "array(['11005', '10173', '10605', '11411', '11740', '10104', '10038',\n",
       "       '10016', '11426', '10467', '10930', '10023', '10595', '11803',\n",
       "       '14710', '10002', '10105', '14450', '10110', '13905', '10038',\n",
       "       '10021', '11576', '12024', '11560', '11021', '11001', '10306',\n",
       "       '10594', '11217', '10601', '10552', '11418', '10031', '11554',\n",
       "       '10112', '14108', '10035', '10303', '10583', '11103', '11768',\n",
       "       '14226', '13057', '11241', '10171', '10006', '10036', '14020',\n",
       "       '10270', '14615', '12590', '10007', '10167', '11703', '13057',\n",
       "       '10924', '14221', '11733', '11204', '10152', '10460', '11372',\n",
       "       '11106', '10119', '11221', '14208', '10169', '10573', '11719',\n",
       "       '11361', '10984', '11427', '10603', '11217', '14526', '11738',\n",
       "       '10112', '11731', '10170', '11363', '11697', '12401', '10173',\n",
       "       '14052', '10309', '10469', '10580', '11414', '10523', '11598',\n",
       "       '10514', '10926', '14209', '11377', '13053', '12779', '10153',\n",
       "       '11692', '10152', '11733', '10925', '10970', '11576', '11210',\n",
       "       '10022', '14120', '11370', '10006', '12144', '11570', '12540',\n",
       "       '13088', '14614', '13614', '14526', '12209', '10456', '10033',\n",
       "       '10017', '14701', '10701', '10103', '10171', '11427', '11370',\n",
       "       '11694', '11357', '11374', '11937', '10520', '11694', '10040',\n",
       "       '10177', '11228', '11579', '10560', '13480', '10121', '11704',\n",
       "       '13903', '11548', '11580', '11968', '10509', '10502', '11427',\n",
       "       '11021', '14883', '11411'], dtype=object)"
      ]
     },
     "execution_count": 17,
     "metadata": {},
     "output_type": "execute_result"
    }
   ],
   "source": [
    "np.random.choice(df.clean_zip.unique(), 150)"
   ]
  },
  {
   "cell_type": "markdown",
   "metadata": {},
   "source": [
    "### 1.3 Data cleaning: Agency names (`incident_zip`)"
   ]
  },
  {
   "cell_type": "markdown",
   "metadata": {},
   "source": [
    "None of the smaller agencies have been excluded at this stage, however they are eventually dropped through cleaning other columns"
   ]
  },
  {
   "cell_type": "code",
   "execution_count": 18,
   "metadata": {},
   "outputs": [
    {
     "data": {
      "text/plain": [
       "NYPD                                       6689295\n",
       "HPD                                        6285327\n",
       "DOT                                        2441279\n",
       "DEP                                        1827327\n",
       "DSNY                                       1774045\n",
       "DOB                                        1092770\n",
       "DPR                                         870684\n",
       "DOHMH                                       477064\n",
       "DOF                                         411144\n",
       "TLC                                         232889\n",
       "DHS                                         215557\n",
       "DCA                                         201156\n",
       "DFTA                                         90371\n",
       "MAYORâS OFFICE OF SPECIAL ENFORCEMENT      62920\n",
       "EDC                                          25386\n",
       "3-1-1                                        20536\n",
       "DOE                                          19141\n",
       "DOITT                                         6909\n",
       "MAYOR'S OFFICE OF SPECIAL ENFORCEMENT         1389\n",
       "NYCEM                                           43\n",
       "HRA                                              1\n",
       "FDNY                                             1\n",
       "Name: agency, dtype: Int64"
      ]
     },
     "execution_count": 18,
     "metadata": {},
     "output_type": "execute_result"
    }
   ],
   "source": [
    "df.agency.value_counts()"
   ]
  },
  {
   "cell_type": "markdown",
   "metadata": {},
   "source": [
    "There's duplication of 'MAYOR'S OFFICE OF SPECIAL ENFORCEMENT'. Let's standardise it to `OSE`, its rightful acronym [[2](https://www1.nyc.gov/site/specialenforcement/index.page)]"
   ]
  },
  {
   "cell_type": "code",
   "execution_count": 19,
   "metadata": {
    "pycharm": {
     "name": "#%%\n"
    }
   },
   "outputs": [],
   "source": [
    "df.agency.replace({'MAYORâS OFFICE OF SPECIAL ENFORCEMENT': 'OSE', \n",
    "                   'MAYOR\\'S OFFICE OF SPECIAL ENFORCEMENT': 'OSE'}, inplace=True)"
   ]
  },
  {
   "cell_type": "code",
   "execution_count": 20,
   "metadata": {},
   "outputs": [],
   "source": [
    "# ensure it remains a string for memory efficiency\n",
    "df['agency'] = df['agency'].astype('string')"
   ]
  },
  {
   "cell_type": "markdown",
   "metadata": {},
   "source": [
    "### 1.4 Data cleaning: dates (`closed_date` & `created_date`)\n",
    "\n",
    "Steps:\n",
    "- we drop invalid `closed_date` entries: when `created_date` > `closed_date` and `closed_date` after today\n",
    "- we drop rows with null `closed_date` (according to cell 5, ~3% of `closed_date` entries are null) as this analysis only considers completed requests\n",
    "\n",
    "To enable date comparisons, we convert the data type of these columns from `string` to `datetime`"
   ]
  },
  {
   "cell_type": "code",
   "execution_count": 21,
   "metadata": {},
   "outputs": [],
   "source": [
    "for col in ['created_date', 'closed_date']:\n",
    "    # errors = 'coerce' forces out of bound dates to NaT\n",
    "    df[col] = pd.to_datetime(df[col], format='%m/%d/%Y %H:%M:%S %p', errors = 'coerce')  "
   ]
  },
  {
   "cell_type": "code",
   "execution_count": 22,
   "metadata": {},
   "outputs": [
    {
     "data": {
      "text/plain": [
       "unique_key                     0\n",
       "created_date                   0\n",
       "closed_date                 2114\n",
       "agency                         0\n",
       "complaint_type                 0\n",
       "incident_zip                   0\n",
       "status                         0\n",
       "resolution_description    417297\n",
       "latitude                  731875\n",
       "longitude                 731875\n",
       "clean_zip                      0\n",
       "dtype: int64"
      ]
     },
     "execution_count": 22,
     "metadata": {},
     "output_type": "execute_result"
    }
   ],
   "source": [
    "df.isnull().sum(axis=0)"
   ]
  },
  {
   "cell_type": "code",
   "execution_count": 23,
   "metadata": {},
   "outputs": [],
   "source": [
    "# drop nulls\n",
    "df.dropna(subset=['closed_date'], inplace=True)"
   ]
  },
  {
   "cell_type": "code",
   "execution_count": 24,
   "metadata": {
    "pycharm": {
     "name": "#%%\n"
    }
   },
   "outputs": [
    {
     "name": "stdout",
     "output_type": "stream",
     "text": [
      "percentage of invalid closed dates: 6.1%\n"
     ]
    }
   ],
   "source": [
    "# find invalid dates as described above\n",
    "invalid_cdates = (df.closed_date > pd.Timestamp.now()) | (df.created_date > df.closed_date)\n",
    "invalid_cdates_counts = invalid_cdates.value_counts()\n",
    "\n",
    "print(f'percentage of invalid closed dates: {invalid_cdates_counts[1] / sum(invalid_cdates_counts):.1%}')"
   ]
  },
  {
   "cell_type": "code",
   "execution_count": 25,
   "metadata": {},
   "outputs": [],
   "source": [
    "df.drop(df[invalid_cdates].index, inplace=True)"
   ]
  },
  {
   "cell_type": "markdown",
   "metadata": {},
   "source": [
    "### 1.5 Data cleaning: complaint type (`complaint_type`)\n",
    "\n",
    "Unfortunately there is a lot of duplication in this column: e.g. (`Taxi Complaint` - `Green Taxi Complaint` -`Taxi Report`, `GENERAL CONSTRUCTION`-`General Construction/Plumbing`). A higher-level and MECE set of categories would have been ideal for our analysis, however as we don't have time to clean and map `complaint_type` properly, we simply consolidate complaint types into categories  (`complaint_cat`) based on the first word in `complaint_type`\n",
    "\n",
    "Example mappings:\n",
    "- `Noise - Street/Sidewalk `, `Noise - Residential` -> `noise`\n",
    "- `Water System`, `WATER LEAK` -> `water`"
   ]
  },
  {
   "cell_type": "code",
   "execution_count": 26,
   "metadata": {},
   "outputs": [
    {
     "data": {
      "text/plain": [
       "Noise - Residential                        1958315\n",
       "HEAT/HOT WATER                             1426860\n",
       "Illegal Parking                             936299\n",
       "Street Condition                            923272\n",
       "HEATING                                     864693\n",
       "Blocked Driveway                            862284\n",
       "PLUMBING                                    722603\n",
       "Water System                                621787\n",
       "Noise - Street/Sidewalk                     608699\n",
       "UNSANITARY CONDITION                        511562\n",
       "Noise                                       506104\n",
       "GENERAL CONSTRUCTION                        469125\n",
       "Street Light Condition                      434414\n",
       "PAINT/PLASTER                               380533\n",
       "General Construction/Plumbing               365915\n",
       "Dirty Conditions                            364338\n",
       "Noise - Commercial                          338181\n",
       "PAINT - PLASTER                             338073\n",
       "Sewer                                       329464\n",
       "Request Large Bulky Item Collection         320692\n",
       "ELECTRIC                                    315329\n",
       "Missed Collection (All Materials)           302855\n",
       "Sanitation Condition                        289711\n",
       "Damaged Tree                                285086\n",
       "Sidewalk Condition                          277108\n",
       "Rodent                                      275124\n",
       "Building/Use                                274791\n",
       "Noise - Vehicle                             271619\n",
       "Traffic Signal Condition                    247990\n",
       "NONCONST                                    244708\n",
       "DOOR/WINDOW                                 230295\n",
       "WATER LEAK                                  215007\n",
       "Consumer Complaint                          198189\n",
       "GENERAL                                     168598\n",
       "Broken Muni Meter                           167267\n",
       "Derelict Vehicle                            157905\n",
       "Taxi Complaint                              152672\n",
       "FLOORING/STAIRS                             152531\n",
       "Graffiti                                    150768\n",
       "Non-Emergency Police Matter                 136209\n",
       "Homeless Person Assistance                  124510\n",
       "Maintenance or Facility                     123543\n",
       "APPLIANCE                                   122924\n",
       "Overgrown Tree/Branches                     119060\n",
       "Elevator                                    118969\n",
       "DOF Property - Reduction Issue              102775\n",
       "New Tree Request                             98950\n",
       "Snow                                         84038\n",
       "SCRIE                                        80704\n",
       "Air Quality                                  78306\n",
       "Street Sign - Damaged                        76139\n",
       "Root/Sewer/Sidewalk Condition                72872\n",
       "Lead                                         67121\n",
       "Food Establishment                           58211\n",
       "Other Enforcement                            57913\n",
       "SAFETY                                       57476\n",
       "DOF Property - Owner Issue                   55999\n",
       "DOF Property - Request Copy                  54717\n",
       "Abandoned Vehicle                            54599\n",
       "NonCompliance with Phased Reopening          54386\n",
       "Broken Parking Meter                         52405\n",
       "Plumbing                                     52347\n",
       "Street Sign - Missing                        52144\n",
       "For Hire Vehicle Complaint                   50582\n",
       "Derelict Vehicles                            50580\n",
       "Illegal Fireworks                            49285\n",
       "DOF Property - Payment Issue                 49232\n",
       "Curb Condition                               48942\n",
       "Housing - Low Income Senior                  44898\n",
       "Indoor Air Quality                           42296\n",
       "Dead Tree                                    42106\n",
       "Animal Abuse                                 41783\n",
       "Emergency Response Team (ERT)                41665\n",
       "DHS Advantage - Tenant                       40587\n",
       "Special Projects Inspection Team (SPIT)      38345\n",
       "Noise - Park                                 37784\n",
       "Traffic                                      37539\n",
       "Electrical                                   37408\n",
       "Water Conservation                           35993\n",
       "Vending                                      35728\n",
       "Electronics Waste Appointment                32575\n",
       "Dead/Dying Tree                              30838\n",
       "DHS Advantage -Landlord/Broker               30457\n",
       "Construction Safety Enforcement              29797\n",
       "Homeless Encampment                          29254\n",
       "Street Sign - Dangling                       27774\n",
       "Highway Condition                            27270\n",
       "Electronics Waste                            26380\n",
       "Noise - Helicopter                           25093\n",
       "Violation of Park Rules                      25010\n",
       "Construction                                 24110\n",
       "Litter Basket / Request                      23344\n",
       "Hazardous Materials                          22786\n",
       "Illegal Tree Damage                          21775\n",
       "Boilers                                      20203\n",
       "Food Poisoning                               19603\n",
       "BEST/Site Safety                             19512\n",
       "Standing Water                               18995\n",
       "Animal in a Park                             18920\n",
       "Unsanitary Animal Pvt Property               18862\n",
       "DOF Property - Update Account                17674\n",
       "Asbestos                                     16948\n",
       "School Maintenance                           16901\n",
       "Noise Survey                                 16253\n",
       "Vacant Lot                                   16208\n",
       "Water Quality                                15715\n",
       "Housing Options                              15493\n",
       "Miscellaneous Categories                     15388\n",
       "Drinking                                     15105\n",
       "Homeless Street Condition                    14491\n",
       "Derelict Bicycle                             13997\n",
       "Bus Stop Shelter Complaint                   13763\n",
       "Industrial Waste                             11945\n",
       "Taxi Report                                  11827\n",
       "Traffic/Illegal Parking                      11029\n",
       "Animal-Abuse                                 10580\n",
       "Overflowing Litter Baskets                   10544\n",
       "Drug Activity                                10281\n",
       "Investigations and Discipline (IAD)          10136\n",
       "Lost Property                                10069\n",
       "Indoor Sewage                                 9992\n",
       "Noise - House of Worship                      9114\n",
       "DPR Internal                                  8749\n",
       "Recycling Enforcement                         8680\n",
       "Borough Office                                7902\n",
       "ELEVATOR                                      7809\n",
       "OUTSIDE BUILDING                              7596\n",
       "Building Marshals office                      7064\n",
       "COVID-19 Non-essential Construction           7039\n",
       "DOF Parking - Tax Exemption                   6190\n",
       "Public Payphone Complaint                     6170\n",
       "Sustainability Enforcement                    5819\n",
       "Elder Abuse                                   5691\n",
       "Unsanitary Pigeon Condition                   5653\n",
       "Sweeping/Missed                               5494\n",
       "Sweeping/Missed-Inadequate                    5466\n",
       "Unsanitary Condition                          5257\n",
       "Panhandling                                   5140\n",
       "Urinating in Public                           4820\n",
       "CONSTRUCTION                                  4780\n",
       "Bike/Roller/Skate Chronic                     4621\n",
       "Outdoor Dining                                4505\n",
       "Disorderly Youth                              4476\n",
       "DRIE                                          3679\n",
       "Found Property                                3435\n",
       "Home Repair                                   3346\n",
       "DOF Property - RPIE Issue                     3159\n",
       "Cranes and Derricks                           3082\n",
       "Mold                                          3021\n",
       "Unleashed Dog                                 2899\n",
       "Posting Advertisement                         2847\n",
       "Mass Gathering Complaint                      2648\n",
       "Scaffold Safety                               2586\n",
       "Senior Center Complaint                       2574\n",
       "For Hire Vehicle Report                       2520\n",
       "Bus Stop Shelter Placement                    2376\n",
       "City Vehicle Placard Complaint                2374\n",
       "Alzheimer's Care                              2307\n",
       "Home Delivered Meal - Missed Delivery         2290\n",
       "Plant                                         2106\n",
       "Facades                                       2102\n",
       "Request Xmas Tree Collection                  1932\n",
       "DOF Property - Property Value                 1920\n",
       "OEM Disabled Vehicle                          1909\n",
       "Beach/Pool/Sauna Complaint                    1887\n",
       "Sweeping/Inadequate                           1732\n",
       "HEAP Assistance                               1614\n",
       "Harboring Bees/Wasps                          1608\n",
       "Mosquitoes                                    1517\n",
       "Quality of Life                               1491\n",
       "Collection Truck Noise                        1486\n",
       "Drinking Water                                1399\n",
       "Bike Rack Condition                           1274\n",
       "Executive Inspections                         1261\n",
       "Utility Program                               1256\n",
       "DHS Advantage - Third Party                   1241\n",
       "Bridge Condition                              1238\n",
       "Day Care                                      1155\n",
       "General                                       1108\n",
       "Weatherization                                1104\n",
       "Forensic Engineering                          1088\n",
       "DOF Property - City Rebate                    1044\n",
       "Private or Charter School Reopening            997\n",
       "Safety                                         933\n",
       "Special Natural Area District (SNAD)           798\n",
       "Advocate-Personal Exemptions                   744\n",
       "Home Delivered Meal Complaint                  736\n",
       "LinkNYC                                        713\n",
       "Municipal Parking Facility                     696\n",
       "Illegal Animal Kept as Pet                     641\n",
       "Adopt-A-Basket                                 550\n",
       "Advocate-Prop Refunds/Credits                  481\n",
       "Eviction                                       441\n",
       "Public Toilet                                  427\n",
       "Poison Ivy                                     401\n",
       "Teaching/Learning/Instruction                  360\n",
       "Discipline and Suspension                      360\n",
       "DEP Street Condition                           352\n",
       "Taxpayer Advocate Inquiry                      345\n",
       "Stalled Sites                                  331\n",
       "ATF                                            300\n",
       "Smoking                                        279\n",
       "Highway Sign - Damaged                         275\n",
       "Advocate - Other                               272\n",
       "Special Operations                             258\n",
       "Unsanitary Animal Facility                     254\n",
       "Animal Facility - No Permit                    244\n",
       "Case Management Agency Complaint               228\n",
       "Bereavement Support Group                      224\n",
       "Home Care Provider Complaint                   219\n",
       "FATF                                           218\n",
       "X-Ray Machine/Equipment                        184\n",
       "Lifeguard                                      177\n",
       "FCST                                           167\n",
       "Overflowing Recycling Baskets                  159\n",
       "Bottled Water                                  158\n",
       "Highway Sign - Missing                         155\n",
       "Taxi Compliment                                155\n",
       "Health                                         150\n",
       "Snow Removal                                   149\n",
       "Registration and Transfers                     146\n",
       "Non-Residential Heat                           144\n",
       "Legal Services Provider Complaint              131\n",
       "Cooling Tower                                  126\n",
       "Illegal Animal Sold                            125\n",
       "Transportation Provider Complaint              108\n",
       "Radioactive Material                            98\n",
       "Advocate-Co-opCondo Abatement                   82\n",
       "Highway Sign - Dangling                         78\n",
       "Encampment                                      73\n",
       "Squeegee                                        49\n",
       "Parent Leadership                               49\n",
       "Foam Ban Enforcement                            46\n",
       "Tanning                                         44\n",
       "Calorie Labeling                                41\n",
       "Advocate-Property Value                         39\n",
       "Building Condition                              30\n",
       "Wood Pile Remaining                             29\n",
       "Green Taxi Report                               26\n",
       "Uprooted Stump                                  24\n",
       "Interior Demo                                   21\n",
       "Ferry Inquiry                                   19\n",
       "Advocate-Commercial Exemptions                  18\n",
       "Advocate-SCRIE/DRIE                             18\n",
       "Special Enforcement                             17\n",
       "Single Occupancy Bathroom                       17\n",
       "STRUCTURAL                                      16\n",
       "SRDE                                            16\n",
       "Ferry Complaint                                 15\n",
       "No Child Left Behind                            15\n",
       "Portable Toilet                                 13\n",
       "NORC Complaint                                  12\n",
       "Advocate - Lien                                 12\n",
       "Pet Shop                                        11\n",
       "Missed Collection                               11\n",
       "Trans Fat                                       11\n",
       "FHV Licensee Complaint                          10\n",
       "Advocate - RPIE                                  9\n",
       "Advocate-Prop Class Incorrect                    9\n",
       "Advocate-Business Tax                            8\n",
       "Construction Lead Dust                           8\n",
       "Internal Code                                    8\n",
       "AGENCY                                           8\n",
       "DOF Parking - Payment Issue                      8\n",
       "Employee Behavior                                7\n",
       "ZTESTINT                                         7\n",
       "DSNY Spillage                                    7\n",
       "Outside Building                                 6\n",
       "DEP Sidewalk Condition                           6\n",
       "Tattooing                                        6\n",
       "Dispatched Taxi Complaint                        6\n",
       "Advocate-UBT                                     5\n",
       "Summer Camp                                      5\n",
       "Appliance                                        4\n",
       "DOF Property - State Rebate                      3\n",
       "VACANT APARTMENT                                 3\n",
       "ZSYSTEST                                         2\n",
       "Green Taxi Complaint                             2\n",
       "Advocate - Levy                                  2\n",
       "Fire Alarm - Replacement                         1\n",
       "Unlicensed Dog                                   1\n",
       "Dept of Investigations                           1\n",
       "Electric                                         1\n",
       "Trapping Pigeon                                  1\n",
       "SG-99                                            1\n",
       "Tunnel Condition                                 1\n",
       "Injured Wildlife                                 1\n",
       "Water Leak                                       1\n",
       "Peeling Paint                                    1\n",
       "DOF Parking - Request Copy                       1\n",
       "MSOTHER                                          1\n",
       "Advocate-Foreclosure                             1\n",
       "Taxi Licensee Complaint                          1\n",
       "Illegal Animal - Sold/Kept                       1\n",
       "Window Guard                                     1\n",
       "Asbestos/Garbage Nuisance                        1\n",
       "LEAD                                             1\n",
       "Benefit Card Replacement                         1\n",
       "DOF Parking - Request Status                     1\n",
       "MOLD                                             1\n",
       "Name: complaint_type, dtype: Int64"
      ]
     },
     "execution_count": 26,
     "metadata": {},
     "output_type": "execute_result"
    }
   ],
   "source": [
    "df.complaint_type.value_counts()"
   ]
  },
  {
   "cell_type": "markdown",
   "metadata": {},
   "source": [
    "Although the consolidation rule doesn't always work, the below quick mapping prevents wrong consolidations of large complaint types"
   ]
  },
  {
   "cell_type": "code",
   "execution_count": 27,
   "metadata": {},
   "outputs": [],
   "source": [
    "df['complaint_cat'] = df['complaint_type'].copy()\n",
    "\n",
    "df['complaint_cat'] = df.complaint_cat.replace({'GENERAL CONSTRUCTION': 'construction', \n",
    "                                             'General Construction/Plumbing': 'construction', \n",
    "                                             'HEAT/HOT WATER': 'water', \n",
    "                                             'Standing Water': 'water'})"
   ]
  },
  {
   "cell_type": "code",
   "execution_count": 28,
   "metadata": {},
   "outputs": [
    {
     "data": {
      "text/plain": [
       "array(['HEATING', 'NONCONST', 'construction', 'Street Condition',\n",
       "       'PLUMBING', 'PAINT - PLASTER', 'Building/Use', 'APPLIANCE',\n",
       "       'Sanitation Condition', 'Street Light Condition'], dtype=object)"
      ]
     },
     "execution_count": 28,
     "metadata": {},
     "output_type": "execute_result"
    }
   ],
   "source": [
    "df.complaint_cat.unique()[:10]"
   ]
  },
  {
   "cell_type": "code",
   "execution_count": 29,
   "metadata": {},
   "outputs": [],
   "source": [
    "# get the first word of complaint type string\n",
    "df['complaint_cat'] = df['complaint_cat'].astype('string').apply(lambda x: x.split()[0].lower())"
   ]
  },
  {
   "cell_type": "markdown",
   "metadata": {},
   "source": [
    "We only consider categories with more than 100 associated requests, otherwise we end up with too many and sparse features in subsequent analysis"
   ]
  },
  {
   "cell_type": "code",
   "execution_count": 30,
   "metadata": {
    "pycharm": {
     "name": "#%%\n"
    }
   },
   "outputs": [],
   "source": [
    "valid_categories_list = df['complaint_cat'].value_counts().reset_index()\\\n",
    "    .query('complaint_cat > 100')['index'].tolist()"
   ]
  },
  {
   "cell_type": "code",
   "execution_count": 31,
   "metadata": {},
   "outputs": [
    {
     "data": {
      "text/plain": [
       "True     21351908\n",
       "False         896\n",
       "Name: complaint_cat, dtype: int64"
      ]
     },
     "execution_count": 31,
     "metadata": {},
     "output_type": "execute_result"
    }
   ],
   "source": [
    "df_valid_categories = df.complaint_cat.isin(valid_categories_list)\n",
    "df_valid_categories.value_counts()"
   ]
  },
  {
   "cell_type": "code",
   "execution_count": 32,
   "metadata": {},
   "outputs": [],
   "source": [
    "# ensure it remains a string for memory efficiency\n",
    "df = df[df_valid_categories].copy()"
   ]
  },
  {
   "cell_type": "code",
   "execution_count": 33,
   "metadata": {},
   "outputs": [],
   "source": [
    "df['complaint_cat'] = df['complaint_cat'].astype('string')"
   ]
  },
  {
   "cell_type": "code",
   "execution_count": 34,
   "metadata": {},
   "outputs": [
    {
     "name": "stdout",
     "output_type": "stream",
     "text": [
      "<class 'pandas.core.frame.DataFrame'>\n",
      "Int64Index: 21351908 entries, 0 to 25115320\n",
      "Data columns (total 12 columns):\n",
      " #   Column                  Dtype         \n",
      "---  ------                  -----         \n",
      " 0   unique_key              int64         \n",
      " 1   created_date            datetime64[ns]\n",
      " 2   closed_date             datetime64[ns]\n",
      " 3   agency                  string        \n",
      " 4   complaint_type          string        \n",
      " 5   incident_zip            string        \n",
      " 6   status                  string        \n",
      " 7   resolution_description  string        \n",
      " 8   latitude                float64       \n",
      " 9   longitude               float64       \n",
      " 10  clean_zip               string        \n",
      " 11  complaint_cat           string        \n",
      "dtypes: datetime64[ns](2), float64(2), int64(1), string(7)\n",
      "memory usage: 2.1 GB\n"
     ]
    }
   ],
   "source": [
    "df.info()"
   ]
  },
  {
   "cell_type": "markdown",
   "metadata": {},
   "source": [
    "As a sense check, let's visualise the density of requests in the top 5 complaint categories"
   ]
  },
  {
   "cell_type": "code",
   "execution_count": 35,
   "metadata": {
    "pycharm": {
     "name": "#%%\n"
    }
   },
   "outputs": [
    {
     "data": {
      "image/png": "[encoded data removed]",
      "text/plain": [
       "<Figure size 432x288 with 1 Axes>"
      ]
     },
     "metadata": {
      "needs_background": "light"
     },
     "output_type": "display_data"
    },
    {
     "data": {
      "image/png": "[encoded data removed]",
      "text/plain": [
       "<Figure size 432x288 with 1 Axes>"
      ]
     },
     "metadata": {
      "needs_background": "light"
     },
     "output_type": "display_data"
    },
    {
     "data": {
      "image/png": "[encoded data removed]",
      "text/plain": [
       "<Figure size 432x288 with 1 Axes>"
      ]
     },
     "metadata": {
      "needs_background": "light"
     },
     "output_type": "display_data"
    },
    {
     "data": {
      "image/png": "[encoded data removed]",
      "text/plain": [
       "<Figure size 432x288 with 1 Axes>"
      ]
     },
     "metadata": {
      "needs_background": "light"
     },
     "output_type": "display_data"
    },
    {
     "data": {
      "image/png": "[encoded data removed]",
      "text/plain": [
       "<Figure size 432x288 with 1 Axes>"
      ]
     },
     "metadata": {
      "needs_background": "light"
     },
     "output_type": "display_data"
    }
   ],
   "source": [
    "cat_counts = df.complaint_cat.value_counts()\n",
    "\n",
    "for category, count in cat_counts[:5].iteritems():\n",
    "    df_plot = df[df.complaint_cat == category]\n",
    "    df_plot.plot(kind='scatter', x='longitude', y='latitude', subplots=True, label=category, marker=\".\")"
   ]
  },
  {
   "cell_type": "markdown",
   "metadata": {
    "pycharm": {
     "name": "#%%\n"
    }
   },
   "source": [
    "### 2. Create feature: time to resolution (`resolution_time_min`)\n",
    "\n",
    "In subsequent analysis, we use time to resolution (in minutes) as a feature, thus we create a new column in our dataframe to avoid recomputing"
   ]
  },
  {
   "cell_type": "code",
   "execution_count": 36,
   "metadata": {
    "pycharm": {
     "name": "#%%\n"
    }
   },
   "outputs": [],
   "source": [
    "df['time_to_resolution_min'] = (df.closed_date - df.created_date) / pd.Timedelta(minutes=1)"
   ]
  },
  {
   "cell_type": "markdown",
   "metadata": {},
   "source": [
    "Check legitimacy of requests with `time_to_resolution_min` = 0 (requests closed immediately / no action needed)"
   ]
  },
  {
   "cell_type": "code",
   "execution_count": 37,
   "metadata": {},
   "outputs": [
    {
     "data": {
      "text/plain": [
       "count    2.135191e+07\n",
       "mean     2.361290e+04\n",
       "std      1.089393e+05\n",
       "min      0.000000e+00\n",
       "25%      2.160500e+02\n",
       "50%      3.037000e+03\n",
       "75%      1.181795e+04\n",
       "max      5.685137e+06\n",
       "Name: time_to_resolution_min, dtype: float64"
      ]
     },
     "execution_count": 37,
     "metadata": {},
     "output_type": "execute_result"
    }
   ],
   "source": [
    "df['time_to_resolution_min'].describe()"
   ]
  },
  {
   "cell_type": "code",
   "execution_count": 38,
   "metadata": {},
   "outputs": [
    {
     "data": {
      "text/html": [
       "<div>\n",
       "<style scoped>\n",
       "    .dataframe tbody tr th:only-of-type {\n",
       "        vertical-align: middle;\n",
       "    }\n",
       "\n",
       "    .dataframe tbody tr th {\n",
       "        vertical-align: top;\n",
       "    }\n",
       "\n",
       "    .dataframe thead th {\n",
       "        text-align: right;\n",
       "    }\n",
       "</style>\n",
       "<table border=\"1\" class=\"dataframe\">\n",
       "  <thead>\n",
       "    <tr style=\"text-align: right;\">\n",
       "      <th></th>\n",
       "      <th>created_date</th>\n",
       "      <th>closed_date</th>\n",
       "      <th>complaint_cat</th>\n",
       "      <th>resolution_description</th>\n",
       "    </tr>\n",
       "  </thead>\n",
       "  <tbody>\n",
       "    <tr>\n",
       "      <th>22867118</th>\n",
       "      <td>2018-12-16 06:31:00</td>\n",
       "      <td>2018-12-16 06:31:00</td>\n",
       "      <td>water</td>\n",
       "      <td>The Department of Environmental Protection determined that this complaint is a duplicate of a previously filed complaint. The original complaint is being addressed.</td>\n",
       "    </tr>\n",
       "    <tr>\n",
       "      <th>17568255</th>\n",
       "      <td>2016-09-07 01:41:00</td>\n",
       "      <td>2016-09-07 01:41:00</td>\n",
       "      <td>sewer</td>\n",
       "      <td>The Department of Environmental Protection has determined that this issue was previously reported by another customer The original complaint is being addressed. If the condition persists, please call 311 (or 212-639-9675 if calling from a non-New York City area code) to submit a new complaint.</td>\n",
       "    </tr>\n",
       "    <tr>\n",
       "      <th>16686666</th>\n",
       "      <td>2016-04-14 10:47:00</td>\n",
       "      <td>2016-04-14 10:47:00</td>\n",
       "      <td>street</td>\n",
       "      <td>Service Request status for this request is available on the Department of Transportationâs website. Please click the âLearn Moreâ link below.</td>\n",
       "    </tr>\n",
       "    <tr>\n",
       "      <th>11501606</th>\n",
       "      <td>2013-04-02 12:00:00</td>\n",
       "      <td>2013-04-02 12:00:00</td>\n",
       "      <td>rodent</td>\n",
       "      <td>For updated status of your complaint go online at nyc.gov/311 and use the Check Status field or call 311.</td>\n",
       "    </tr>\n",
       "    <tr>\n",
       "      <th>350719</th>\n",
       "      <td>2010-07-29 01:24:45</td>\n",
       "      <td>2010-07-29 01:24:45</td>\n",
       "      <td>best/site</td>\n",
       "      <td>The Department of Buildings determined that the conditions described in this complaint were addressed under another service request number. Click on \"Learn More\" in the \"Did You Know\" section below for more information.</td>\n",
       "    </tr>\n",
       "    <tr>\n",
       "      <th>2475094</th>\n",
       "      <td>2013-02-12 02:31:00</td>\n",
       "      <td>2013-02-12 02:31:00</td>\n",
       "      <td>street</td>\n",
       "      <td>Service Request status for this request is available on the Department of Transportationâs website. Please click the âLearn Moreâ link below.</td>\n",
       "    </tr>\n",
       "    <tr>\n",
       "      <th>8387206</th>\n",
       "      <td>2020-10-21 11:17:25</td>\n",
       "      <td>2020-10-21 11:17:25</td>\n",
       "      <td>maintenance</td>\n",
       "      <td>The Department of Parks and Recreation has completed the requested work order and corrected the problem.</td>\n",
       "    </tr>\n",
       "    <tr>\n",
       "      <th>14113136</th>\n",
       "      <td>2015-02-02 12:00:00</td>\n",
       "      <td>2015-02-02 12:00:00</td>\n",
       "      <td>water</td>\n",
       "      <td>The Department of Housing Preservation and Development conducted or attempted to conduct an inspection.  More information about inspection results can be found through HPD's website at www.nyc.gov/hpd by using HPDONLINE (enter your address on the home page) and entering your SR number under the complaint status option.</td>\n",
       "    </tr>\n",
       "    <tr>\n",
       "      <th>18536950</th>\n",
       "      <td>2017-02-15 12:00:00</td>\n",
       "      <td>2017-02-15 12:00:00</td>\n",
       "      <td>rodent</td>\n",
       "      <td>The Department of Health and Mental Hygiene will review your complaint to determine appropriate action.  Complaints of this type usually result in an inspection.  Please call 311 in 30 days from the date of your complaint for status</td>\n",
       "    </tr>\n",
       "    <tr>\n",
       "      <th>2876632</th>\n",
       "      <td>2013-08-28 11:49:00</td>\n",
       "      <td>2013-08-28 11:49:00</td>\n",
       "      <td>street</td>\n",
       "      <td>Service Request status for this request is available on the Department of Transportationâs website. Please click the âLearn Moreâ link below.</td>\n",
       "    </tr>\n",
       "  </tbody>\n",
       "</table>\n",
       "</div>"
      ],
      "text/plain": [
       "                created_date         closed_date complaint_cat  \\\n",
       "22867118 2018-12-16 06:31:00 2018-12-16 06:31:00         water   \n",
       "17568255 2016-09-07 01:41:00 2016-09-07 01:41:00         sewer   \n",
       "16686666 2016-04-14 10:47:00 2016-04-14 10:47:00        street   \n",
       "11501606 2013-04-02 12:00:00 2013-04-02 12:00:00        rodent   \n",
       "350719   2010-07-29 01:24:45 2010-07-29 01:24:45     best/site   \n",
       "2475094  2013-02-12 02:31:00 2013-02-12 02:31:00        street   \n",
       "8387206  2020-10-21 11:17:25 2020-10-21 11:17:25   maintenance   \n",
       "14113136 2015-02-02 12:00:00 2015-02-02 12:00:00         water   \n",
       "18536950 2017-02-15 12:00:00 2017-02-15 12:00:00        rodent   \n",
       "2876632  2013-08-28 11:49:00 2013-08-28 11:49:00        street   \n",
       "\n",
       "                                                                                                                                                                                                                                                                                                                    resolution_description  \n",
       "22867118                                                                                                                                                              The Department of Environmental Protection determined that this complaint is a duplicate of a previously filed complaint. The original complaint is being addressed.  \n",
       "17568255                            The Department of Environmental Protection has determined that this issue was previously reported by another customer The original complaint is being addressed. If the condition persists, please call 311 (or 212-639-9675 if calling from a non-New York City area code) to submit a new complaint.  \n",
       "16686666                                                                                                                                                                               Service Request status for this request is available on the Department of Transportationâs website. Please click the âLearn Moreâ link below.  \n",
       "11501606                                                                                                                                                                                                                         For updated status of your complaint go online at nyc.gov/311 and use the Check Status field or call 311.  \n",
       "350719                                                                                                         The Department of Buildings determined that the conditions described in this complaint were addressed under another service request number. Click on \"Learn More\" in the \"Did You Know\" section below for more information.  \n",
       "2475094                                                                                                                                                                                Service Request status for this request is available on the Department of Transportationâs website. Please click the âLearn Moreâ link below.  \n",
       "8387206                                                                                                                                                                                                                           The Department of Parks and Recreation has completed the requested work order and corrected the problem.  \n",
       "14113136  The Department of Housing Preservation and Development conducted or attempted to conduct an inspection.  More information about inspection results can be found through HPD's website at www.nyc.gov/hpd by using HPDONLINE (enter your address on the home page) and entering your SR number under the complaint status option.  \n",
       "18536950                                                                                          The Department of Health and Mental Hygiene will review your complaint to determine appropriate action.  Complaints of this type usually result in an inspection.  Please call 311 in 30 days from the date of your complaint for status  \n",
       "2876632                                                                                                                                                                                Service Request status for this request is available on the Department of Transportationâs website. Please click the âLearn Moreâ link below.  "
      ]
     },
     "execution_count": 38,
     "metadata": {},
     "output_type": "execute_result"
    }
   ],
   "source": [
    "df[df['time_to_resolution_min'] == 0].sample(10)[['created_date', 'closed_date', 'complaint_cat','resolution_description']]"
   ]
  },
  {
   "cell_type": "markdown",
   "metadata": {},
   "source": [
    "### 3. Save data"
   ]
  },
  {
   "cell_type": "code",
   "execution_count": 39,
   "metadata": {},
   "outputs": [
    {
     "data": {
      "text/plain": [
       "unique_key                     0\n",
       "created_date                   0\n",
       "closed_date                    0\n",
       "agency                         0\n",
       "complaint_type                 0\n",
       "incident_zip                   0\n",
       "status                         0\n",
       "resolution_description    408878\n",
       "latitude                  681234\n",
       "longitude                 681234\n",
       "clean_zip                      0\n",
       "complaint_cat                  0\n",
       "time_to_resolution_min         0\n",
       "dtype: int64"
      ]
     },
     "execution_count": 39,
     "metadata": {},
     "output_type": "execute_result"
    }
   ],
   "source": [
    "df.isnull().sum(axis=0)"
   ]
  },
  {
   "cell_type": "code",
   "execution_count": 40,
   "metadata": {},
   "outputs": [
    {
     "name": "stdout",
     "output_type": "stream",
     "text": [
      "In summary, 14.98% of rows have been dropped from the original dataset\n"
     ]
    }
   ],
   "source": [
    "print(f'In summary, {(len_df_raw - len(df)) / len_df_raw:.2%} of rows have been dropped from the original dataset')"
   ]
  },
  {
   "cell_type": "code",
   "execution_count": 41,
   "metadata": {},
   "outputs": [],
   "source": [
    "# drop columns that are not used in subsequent analysis\n",
    "df.drop(columns=['created_date', 'closed_date', 'status', 'complaint_type', 'incident_zip',\n",
    "                 'resolution_description', 'latitude', 'longitude'], inplace=True)"
   ]
  },
  {
   "cell_type": "code",
   "execution_count": 42,
   "metadata": {},
   "outputs": [
    {
     "name": "stdout",
     "output_type": "stream",
     "text": [
      "<class 'pandas.core.frame.DataFrame'>\n",
      "Int64Index: 21351908 entries, 0 to 25115320\n",
      "Data columns (total 5 columns):\n",
      " #   Column                  Dtype  \n",
      "---  ------                  -----  \n",
      " 0   unique_key              int64  \n",
      " 1   agency                  string \n",
      " 2   clean_zip               string \n",
      " 3   complaint_cat           string \n",
      " 4   time_to_resolution_min  float64\n",
      "dtypes: float64(1), int64(1), string(3)\n",
      "memory usage: 4.2 GB\n"
     ]
    }
   ],
   "source": [
    "# check memory usage\n",
    "df.info(memory_usage='deep')"
   ]
  },
  {
   "cell_type": "code",
   "execution_count": 43,
   "metadata": {},
   "outputs": [
    {
     "data": {
      "text/html": [
       "<div>\n",
       "<style scoped>\n",
       "    .dataframe tbody tr th:only-of-type {\n",
       "        vertical-align: middle;\n",
       "    }\n",
       "\n",
       "    .dataframe tbody tr th {\n",
       "        vertical-align: top;\n",
       "    }\n",
       "\n",
       "    .dataframe thead th {\n",
       "        text-align: right;\n",
       "    }\n",
       "</style>\n",
       "<table border=\"1\" class=\"dataframe\">\n",
       "  <thead>\n",
       "    <tr style=\"text-align: right;\">\n",
       "      <th></th>\n",
       "      <th>unique_key</th>\n",
       "      <th>agency</th>\n",
       "      <th>clean_zip</th>\n",
       "      <th>complaint_cat</th>\n",
       "      <th>time_to_resolution_min</th>\n",
       "    </tr>\n",
       "  </thead>\n",
       "  <tbody>\n",
       "    <tr>\n",
       "      <th>0</th>\n",
       "      <td>16181298</td>\n",
       "      <td>HPD</td>\n",
       "      <td>11226</td>\n",
       "      <td>heating</td>\n",
       "      <td>1440.000000</td>\n",
       "    </tr>\n",
       "    <tr>\n",
       "      <th>1</th>\n",
       "      <td>16180916</td>\n",
       "      <td>HPD</td>\n",
       "      <td>11218</td>\n",
       "      <td>nonconst</td>\n",
       "      <td>11520.000000</td>\n",
       "    </tr>\n",
       "    <tr>\n",
       "      <th>2</th>\n",
       "      <td>16181945</td>\n",
       "      <td>HPD</td>\n",
       "      <td>11225</td>\n",
       "      <td>construction</td>\n",
       "      <td>7200.000000</td>\n",
       "    </tr>\n",
       "    <tr>\n",
       "      <th>3</th>\n",
       "      <td>16181032</td>\n",
       "      <td>DOT</td>\n",
       "      <td>10305</td>\n",
       "      <td>street</td>\n",
       "      <td>7535.633333</td>\n",
       "    </tr>\n",
       "    <tr>\n",
       "      <th>4</th>\n",
       "      <td>16182497</td>\n",
       "      <td>HPD</td>\n",
       "      <td>11219</td>\n",
       "      <td>plumbing</td>\n",
       "      <td>11520.000000</td>\n",
       "    </tr>\n",
       "  </tbody>\n",
       "</table>\n",
       "</div>"
      ],
      "text/plain": [
       "   unique_key agency clean_zip complaint_cat  time_to_resolution_min\n",
       "0    16181298    HPD     11226       heating             1440.000000\n",
       "1    16180916    HPD     11218      nonconst            11520.000000\n",
       "2    16181945    HPD     11225  construction             7200.000000\n",
       "3    16181032    DOT     10305        street             7535.633333\n",
       "4    16182497    HPD     11219      plumbing            11520.000000"
      ]
     },
     "execution_count": 43,
     "metadata": {},
     "output_type": "execute_result"
    }
   ],
   "source": [
    "# check if final dataset looks okay\n",
    "df.head()"
   ]
  },
  {
   "cell_type": "code",
   "execution_count": 44,
   "metadata": {},
   "outputs": [],
   "source": [
    "df.to_csv('data/nyc311_clean.csv', index=False)"
   ]
  }
 ],
 "metadata": {
  "kernelspec": {
   "display_name": "Python 3",
   "language": "python",
   "name": "python3"
  },
  "language_info": {
   "codemirror_mode": {
    "name": "ipython",
    "version": 3
   },
   "file_extension": ".py",
   "mimetype": "text/x-python",
   "name": "python",
   "nbconvert_exporter": "python",
   "pygments_lexer": "ipython3",
   "version": "3.9.2"
  }
 },
 "nbformat": 4,
 "nbformat_minor": 1
}
